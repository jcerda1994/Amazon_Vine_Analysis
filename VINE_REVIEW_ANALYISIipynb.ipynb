{
  "nbformat": 4,
  "nbformat_minor": 0,
  "metadata": {
    "colab": {
      "provenance": []
    },
    "kernelspec": {
      "name": "python3",
      "display_name": "Python 3"
    },
    "language_info": {
      "name": "python"
    }
  },
  "cells": [
    {
      "cell_type": "code",
      "execution_count": 1,
      "metadata": {
        "colab": {
          "base_uri": "https://localhost:8080/"
        },
        "id": "xqGXZbjbzQBx",
        "outputId": "b7d0904a-63e2-46ec-f4e7-b2ae6bfb8090"
      },
      "outputs": [
        {
          "output_type": "stream",
          "name": "stdout",
          "text": [
            "\r0% [Working]\r            \rGet:1 http://ppa.launchpad.net/c2d4u.team/c2d4u4.0+/ubuntu focal InRelease [18.1 kB]\n",
            "\r0% [Connecting to archive.ubuntu.com (91.189.91.39)] [Waiting for headers] [Con\r                                                                               \rGet:2 http://security.ubuntu.com/ubuntu focal-security InRelease [114 kB]\n",
            "\r                                                                               \rGet:3 https://cloud.r-project.org/bin/linux/ubuntu focal-cran40/ InRelease [3,622 B]\n",
            "\r                                                                               \rHit:4 http://ppa.launchpad.net/cran/libgit2/ubuntu focal InRelease\n",
            "\r0% [Connecting to archive.ubuntu.com (91.189.91.39)] [Waiting for headers] [Con\r                                                                               \rGet:5 http://ppa.launchpad.net/deadsnakes/ppa/ubuntu focal InRelease [18.1 kB]\n",
            "\r0% [Waiting for headers] [Waiting for headers] [5 InRelease 14.2 kB/18.1 kB 78%\r                                                                               \r0% [Waiting for headers] [Waiting for headers]\r                                              \rHit:6 http://ppa.launchpad.net/graphics-drivers/ppa/ubuntu focal InRelease\n",
            "Hit:7 http://archive.ubuntu.com/ubuntu focal InRelease\n",
            "Get:8 http://archive.ubuntu.com/ubuntu focal-updates InRelease [114 kB]\n",
            "Ign:9 https://developer.download.nvidia.com/compute/machine-learning/repos/ubuntu2004/x86_64  InRelease\n",
            "Hit:10 https://developer.download.nvidia.com/compute/cuda/repos/ubuntu2004/x86_64  InRelease\n",
            "Get:11 http://ppa.launchpad.net/c2d4u.team/c2d4u4.0+/ubuntu focal/main Sources [2,386 kB]\n",
            "Hit:12 https://developer.download.nvidia.com/compute/machine-learning/repos/ubuntu2004/x86_64  Release\n",
            "Get:13 http://ppa.launchpad.net/c2d4u.team/c2d4u4.0+/ubuntu focal/main amd64 Packages [1,131 kB]\n",
            "Get:14 http://archive.ubuntu.com/ubuntu focal-backports InRelease [108 kB]\n",
            "Get:15 http://security.ubuntu.com/ubuntu focal-security/main amd64 Packages [2,479 kB]\n",
            "Get:16 http://security.ubuntu.com/ubuntu focal-security/universe amd64 Packages [994 kB]\n",
            "Get:17 http://ppa.launchpad.net/deadsnakes/ppa/ubuntu focal/main amd64 Packages [29.5 kB]\n",
            "Get:19 http://archive.ubuntu.com/ubuntu focal-updates/main amd64 Packages [2,958 kB]\n",
            "Get:20 http://archive.ubuntu.com/ubuntu focal-updates/universe amd64 Packages [1,295 kB]\n",
            "Get:21 http://archive.ubuntu.com/ubuntu focal-updates/restricted amd64 Packages [2,055 kB]\n",
            "Fetched 13.7 MB in 4s (3,100 kB/s)\n",
            "Reading package lists... Done\n"
          ]
        }
      ],
      "source": [
        "import os\n",
        "# Find the latest version of spark 3.2 from http://www.apache.org/dist/spark/ and enter as the spark version\n",
        "# For example:\n",
        "# spark_version = 'spark-3.2.3'\n",
        "spark_version = 'spark-3.2.3'\n",
        "os.environ['SPARK_VERSION']=spark_version\n",
        "\n",
        "# Install Spark and Java\n",
        "!apt-get update\n",
        "!apt-get install openjdk-11-jdk-headless -qq > /dev/null\n",
        "!wget -q http://www.apache.org/dist/spark/$SPARK_VERSION/$SPARK_VERSION-bin-hadoop2.7.tgz\n",
        "!tar xf $SPARK_VERSION-bin-hadoop2.7.tgz\n",
        "!pip install -q findspark\n",
        "\n",
        "# Set Environment Variables\n",
        "import os\n",
        "os.environ[\"JAVA_HOME\"] = \"/usr/lib/jvm/java-11-openjdk-amd64\"\n",
        "os.environ[\"SPARK_HOME\"] = f\"/content/{spark_version}-bin-hadoop2.7\"\n",
        "\n",
        "# Start a SparkSession\n",
        "import findspark\n",
        "findspark.init()"
      ]
    },
    {
      "cell_type": "code",
      "source": [
        "!wget https://jdbc.postgresql.org/download/postgresql-42.2.16.jar\n"
      ],
      "metadata": {
        "colab": {
          "base_uri": "https://localhost:8080/"
        },
        "id": "TR_ZTLtXzRqU",
        "outputId": "d01c4469-7877-4ef5-cc47-e305073d33e2"
      },
      "execution_count": 2,
      "outputs": [
        {
          "output_type": "stream",
          "name": "stdout",
          "text": [
            "--2023-02-13 17:24:37--  https://jdbc.postgresql.org/download/postgresql-42.2.16.jar\n",
            "Resolving jdbc.postgresql.org (jdbc.postgresql.org)... 72.32.157.228, 2001:4800:3e1:1::228\n",
            "Connecting to jdbc.postgresql.org (jdbc.postgresql.org)|72.32.157.228|:443... connected.\n",
            "HTTP request sent, awaiting response... 200 OK\n",
            "Length: 1002883 (979K) [application/java-archive]\n",
            "Saving to: ‘postgresql-42.2.16.jar’\n",
            "\n",
            "postgresql-42.2.16. 100%[===================>] 979.38K  1.69MB/s    in 0.6s    \n",
            "\n",
            "2023-02-13 17:24:39 (1.69 MB/s) - ‘postgresql-42.2.16.jar’ saved [1002883/1002883]\n",
            "\n"
          ]
        }
      ]
    },
    {
      "cell_type": "code",
      "source": [
        "from pyspark.sql import SparkSession\n",
        "spark = SparkSession.builder.appName(\"M17-Amazon-Challenge\").config(\"spark.driver.extraClassPath\",\"/content/postgresql-42.2.16.jar\").getOrCreate()"
      ],
      "metadata": {
        "id": "8bPIzWYVzpyT"
      },
      "execution_count": 4,
      "outputs": []
    },
    {
      "cell_type": "code",
      "source": [
        "from pyspark import SparkFiles\n",
        "url = \"https://s3.amazonaws.com/amazon-reviews-pds/tsv/amazon_reviews_us_Wireless_v1_00.tsv.gz\"\n",
        "spark.sparkContext.addFile(url)\n",
        "df = spark.read.option(\"encoding\", \"UTF-8\").csv(SparkFiles.get(\"\"), sep=\"\\t\", header=True, inferSchema=True)\n",
        "df.show()"
      ],
      "metadata": {
        "colab": {
          "base_uri": "https://localhost:8080/"
        },
        "id": "D6i4HktgzsI8",
        "outputId": "eeb6fb86-c8f5-4293-a9b1-c0f219e55978"
      },
      "execution_count": 5,
      "outputs": [
        {
          "output_type": "stream",
          "name": "stdout",
          "text": [
            "+-----------+-----------+--------------+----------+--------------+--------------------+----------------+-----------+-------------+-----------+----+-----------------+--------------------+--------------------+-----------+\n",
            "|marketplace|customer_id|     review_id|product_id|product_parent|       product_title|product_category|star_rating|helpful_votes|total_votes|vine|verified_purchase|     review_headline|         review_body|review_date|\n",
            "+-----------+-----------+--------------+----------+--------------+--------------------+----------------+-----------+-------------+-----------+----+-----------------+--------------------+--------------------+-----------+\n",
            "|         US|   16414143|R3W4P9UBGNGH1U|B00YL0EKWE|     852431543|LG G4 Case Hard T...|        Wireless|          2|            1|          3|   N|                Y|Looks good, funct...|2 issues  -  Once...| 2015-08-31|\n",
            "|         US|   50800750|R15V54KBMTQWAY|B00XK95RPQ|     516894650|Selfie Stick Fibl...|        Wireless|          4|            0|          0|   N|                N| A fun little gadget|I’m embarrassed t...| 2015-08-31|\n",
            "|         US|   15184378| RY8I449HNXSVF|B00SXRXUKO|     984297154|Tribe AB40 Water ...|        Wireless|          5|            0|          0|   N|                Y|          Five Stars|  Fits iPhone 6 well| 2015-08-31|\n",
            "|         US|   10203548|R18TLJYCKJFLSR|B009V5X1CE|     279912704|RAVPower® Element...|        Wireless|          5|            0|          0|   N|                Y|       Great charger|Great charger.  I...| 2015-08-31|\n",
            "|         US|     488280|R1NK26SWS53B8Q|B00D93OVF0|     662791300|Fosmon Micro USB ...|        Wireless|          5|            0|          0|   N|                Y|          Five Stars|Great for the pri...| 2015-08-31|\n",
            "|         US|   13334021|R11LOHEDYJALTN|B00XVGJMDQ|     421688488|iPhone 6 Case, Vo...|        Wireless|          5|            0|          0|   N|                Y|          Five Stars|Great Case, bette...| 2015-08-31|\n",
            "|         US|   27520697|R3ALQVQB2P9LA7|B00KQW1X1C|     554285554|Nokia Lumia 630 R...|        Wireless|          4|            0|          0|   N|                Y|          Four Stars|Easy to set up an...| 2015-08-31|\n",
            "|         US|   48086021|R3MWLXLNO21PDQ|B00IP1MQNK|     488006702|Lumsing 10400mah ...|        Wireless|          5|            0|          0|   N|                Y|          Five Stars|         Works great| 2015-08-31|\n",
            "|         US|   12738196|R2L15IS24CX0LI|B00HVORET8|     389677711|iPhone 5S Battery...|        Wireless|          5|            0|          0|   N|                Y|      So far so good|So far so good. I...| 2015-08-31|\n",
            "|         US|   15867807|R1DJ8976WPWVZU|B00HX3G6J6|     299654876|HTC One M8 Screen...|        Wireless|          3|            0|          0|   N|                Y|seems durable but...|seems durable but...| 2015-08-31|\n",
            "|         US|    1972249|R3MRWNNR8CBTB7|B00U4NATNQ|     577878727|S6 Case - Bear Mo...|        Wireless|          5|            0|          0|   N|                Y|Super thin, light...|Super thin, light...| 2015-08-31|\n",
            "|         US|   10956619|R1DS6DKTUXAQK3|B00SZEFDH8|     654620704|BLU Studio X, Unl...|        Wireless|          5|            0|          0|   N|                Y|          Five Stars|As good as the Sa...| 2015-08-31|\n",
            "|         US|   14805911| RWJM5E0TWUJD2|B00JRJUL9U|     391166958|EZOPower 5-Port U...|        Wireless|          5|            0|          0|   N|                Y|            EZOPower|I received this o...| 2015-08-31|\n",
            "|         US|   15611116|R1XTJKDYNCRGAC|B00KQ4T0HE|     481551630|iPhone 6S Case &i...|        Wireless|          1|            0|          0|   N|                Y|Very cheap case. ...|Very cheap case. ...| 2015-08-31|\n",
            "|         US|   39298603|R2UZL3DPWEU1XW|B00M0YWKPM|     685107474| iPhone 6s Plus Case|        Wireless|          5|            0|          0|   N|                Y|          Five Stars|       son loves it.| 2015-08-31|\n",
            "|         US|   17552454|R2EZXET9KBFFU3|B00KDZEE68|     148320945|zBoost ZB575-A TR...|        Wireless|          1|            0|          0|   N|                Y|            One Star|you have to turn ...| 2015-08-31|\n",
            "|         US|   12218556|R26VY1L1FD3LPU|B00BJN45GM|      47788188|OtterBox Defender...|        Wireless|          5|            0|          0|   N|                Y|          Five Stars|  Awesome, thank you| 2015-08-31|\n",
            "|         US|   21872923|R2SSA4NSFCV18T|B00SA86SXW|     748759272|Aduro PowerUP 30W...|        Wireless|          5|            0|          0|   N|                N|          Five Stars|         nice, smart| 2015-08-31|\n",
            "|         US|   16264332|R1G6333JHJNEUQ|B00Q3I68TU|     974085141|LilGadgets Connec...|        Wireless|          5|            0|          0|   N|                Y|Great headphones ...|We love these hea...| 2015-08-31|\n",
            "|         US|    6042304|R2DRG0UZXJQ0PE|B00TN4J1TA|     716174627|Anker Aluminum Mu...|        Wireless|          5|            0|          0|   N|                Y|          Five Stars|This is well wort...| 2015-08-31|\n",
            "+-----------+-----------+--------------+----------+--------------+--------------------+----------------+-----------+-------------+-----------+----+-----------------+--------------------+--------------------+-----------+\n",
            "only showing top 20 rows\n",
            "\n"
          ]
        }
      ]
    },
    {
      "cell_type": "code",
      "source": [
        "vine_reviews = df.filter('total_votes>=20')\n",
        "vine_reviews.show()"
      ],
      "metadata": {
        "colab": {
          "base_uri": "https://localhost:8080/"
        },
        "id": "Sq91anCXzxQk",
        "outputId": "ff2f2612-4409-41c5-f959-a94461065f85"
      },
      "execution_count": 6,
      "outputs": [
        {
          "output_type": "stream",
          "name": "stdout",
          "text": [
            "+-----------+-----------+--------------+----------+--------------+--------------------+----------------+-----------+-------------+-----------+----+-----------------+--------------------+--------------------+-----------+\n",
            "|marketplace|customer_id|     review_id|product_id|product_parent|       product_title|product_category|star_rating|helpful_votes|total_votes|vine|verified_purchase|     review_headline|         review_body|review_date|\n",
            "+-----------+-----------+--------------+----------+--------------+--------------------+----------------+-----------+-------------+-----------+----+-----------------+--------------------+--------------------+-----------+\n",
            "|         US|   44689470|R2WOW0TURNXB26|B00YY3UBV2|     310491927|            Garmin 1|        Wireless|          3|           54|         59|   N|                Y|Pretty Disappoint...|Bought this unit ...| 2015-08-31|\n",
            "|         US|     112342|R13VL62Y2HBQ0B|B010VFZJD6|     129632031|iTaste MVP3 PRO -...|        Wireless|          5|           15|         21|   N|                Y|   Excellent battery|I love my Mvp pro...| 2015-08-31|\n",
            "|         US|   13557708|R22G55KAPZKJQV|B00C8S8S4W|     998105706|SPOT 3 Satellite ...|        Wireless|          4|           20|         21|   N|                Y|Great but buy the...|My mom made me pu...| 2015-08-31|\n",
            "|         US|    3346419|R1610PGTJS7G3N|B011I4XMXS|     431799284|   Ausdom Dash cam 1|        Wireless|          2|           28|         44|   N|                Y| Pretty dissapointed|I was hoping for ...| 2015-08-31|\n",
            "|         US|   46029442| RLQL04BL0QXOJ|B00OSTKZWM|     736471392|RCA 5.5-Inch Quad...|        Wireless|          4|           45|         47|   N|                Y|Tried many... Thi...|I had been lookin...| 2015-08-31|\n",
            "|         US|   19380011|R2AYJHH8WJNGAU|B013D32WVA|     138975975|Samsung Galaxy No...|        Wireless|          4|           98|        104|   N|                Y|     Time will tell.|I wanted a water ...| 2015-08-31|\n",
            "|         US|   22953177|R111DJA10Y6CMU|B013BHLU66|     396362963|Waterproof Case f...|        Wireless|          5|           26|         39|   N|                Y|Great Value - Goo...|First, I will say...| 2015-08-31|\n",
            "|         US|   16980808|R2EE2TR4MRDV0U|B00Y1Z87UU|     956867660|IBESTWIN Li-ion R...|        Wireless|          5|           53|         59|   N|                Y|Does it get any b...|A great battery f...| 2015-08-31|\n",
            "|         US|   37339397| RD4A80I5JDHED|B00UY29N8Y|     384094161|IncrediSonic M700...|        Wireless|          5|           69|         77|   N|                N|        Virtual Fun!|I was a bit skept...| 2015-08-31|\n",
            "|         US|    7830540|R1GU6IYZQWQE8X|B00NPZG6DW|     267673298|      Parrot Zik 2.0|        Wireless|          2|           24|         25|   N|                Y|Crappy lining... ...|These sounds grea...| 2015-08-31|\n",
            "|         US|     113760| RZOPM62JMW97V|B00X0X3EQ6|     657509542|OtterBox SYMMETRY...|        Wireless|          2|          103|        108|   N|                Y|AVOID IF YOU ARE ...|Although this cas...| 2015-08-31|\n",
            "|         US|   52589608|R21GLR3TD27ISV|B013IVO8FK|      84781086|NomadPlus Generat...|        Wireless|          3|            4|         22|   N|                Y|My feedback respo...|Don't get me wron...| 2015-08-31|\n",
            "|         US|   35621482|R1D3NR5GREEXXJ|B013F8C9X4|     561786475|Galaxy Note 5 Cas...|        Wireless|          5|           57|         58|   N|                Y|Great case for a ...|I've been a big f...| 2015-08-31|\n",
            "|         US|   45872422|R24BMEHX5EWGEY|B00Z9P06DW|     459992506|ATian 9 inch TFT ...|        Wireless|          2|           26|         30|   N|                Y|Not great - Wirel...|Pretty disappoint...| 2015-08-31|\n",
            "|         US|   44137838|R2WYKBQS8OR08O|B010GYYSU2|     518226514|Z-Edge 2.4- inch ...|        Wireless|          5|          168|        176|   N|                Y|  PERFECT DASH CAM !|I returned my gar...| 2015-08-31|\n",
            "|         US|   11179629|R3DL0Y1KWYLD5X|B010LXUQNG|     179041214|iPhone 6 Case, Lo...|        Wireless|          5|           36|         37|   N|                Y|You won't be disa...|Let me just say f...| 2015-08-31|\n",
            "|         US|   21851130|R3EGDTFDMCOOG4|B010MP3K0O|     868762206|Jackery Titan Por...|        Wireless|          5|           74|         90|   N|                N|Jackery Titan 180...|I was sent this J...| 2015-08-31|\n",
            "|         US|     459473|R1MC93W6WG9R3O|B00TRNCN5Q|     736335718|Galaxy Grand Prim...|        Wireless|          1|           22|         22|   N|                Y|            One Star|Too lose does not...| 2015-08-31|\n",
            "|         US|    5374752|R35B0B69DYR54L|B00TRC3YF0|     396308462|Rexing F9 2.7” LC...|        Wireless|          1|           18|         22|   N|                Y|The user manual i...|The user manual i...| 2015-08-31|\n",
            "|         US|   29179205|R1593EM56412NH|B011VRO5M4|      28128248|iPhone 6S Plus Wa...|        Wireless|          4|           33|         37|   N|                Y|Nice case except ...|I like my new cas...| 2015-08-31|\n",
            "+-----------+-----------+--------------+----------+--------------+--------------------+----------------+-----------+-------------+-----------+----+-----------------+--------------------+--------------------+-----------+\n",
            "only showing top 20 rows\n",
            "\n"
          ]
        }
      ]
    },
    {
      "cell_type": "code",
      "source": [
        "vine_reviews_new = vine_reviews.filter(vine_reviews['helpful_votes']/vine_reviews['total_votes']>=0.5)\n",
        "vine_reviews_new.show()"
      ],
      "metadata": {
        "colab": {
          "base_uri": "https://localhost:8080/"
        },
        "id": "EiaXhKy-zzPX",
        "outputId": "51341025-d7a9-4324-9d7b-e83b3a3b8475"
      },
      "execution_count": 7,
      "outputs": [
        {
          "output_type": "stream",
          "name": "stdout",
          "text": [
            "+-----------+-----------+--------------+----------+--------------+--------------------+----------------+-----------+-------------+-----------+----+-----------------+--------------------+--------------------+-----------+\n",
            "|marketplace|customer_id|     review_id|product_id|product_parent|       product_title|product_category|star_rating|helpful_votes|total_votes|vine|verified_purchase|     review_headline|         review_body|review_date|\n",
            "+-----------+-----------+--------------+----------+--------------+--------------------+----------------+-----------+-------------+-----------+----+-----------------+--------------------+--------------------+-----------+\n",
            "|         US|   44689470|R2WOW0TURNXB26|B00YY3UBV2|     310491927|            Garmin 1|        Wireless|          3|           54|         59|   N|                Y|Pretty Disappoint...|Bought this unit ...| 2015-08-31|\n",
            "|         US|     112342|R13VL62Y2HBQ0B|B010VFZJD6|     129632031|iTaste MVP3 PRO -...|        Wireless|          5|           15|         21|   N|                Y|   Excellent battery|I love my Mvp pro...| 2015-08-31|\n",
            "|         US|   13557708|R22G55KAPZKJQV|B00C8S8S4W|     998105706|SPOT 3 Satellite ...|        Wireless|          4|           20|         21|   N|                Y|Great but buy the...|My mom made me pu...| 2015-08-31|\n",
            "|         US|    3346419|R1610PGTJS7G3N|B011I4XMXS|     431799284|   Ausdom Dash cam 1|        Wireless|          2|           28|         44|   N|                Y| Pretty dissapointed|I was hoping for ...| 2015-08-31|\n",
            "|         US|   46029442| RLQL04BL0QXOJ|B00OSTKZWM|     736471392|RCA 5.5-Inch Quad...|        Wireless|          4|           45|         47|   N|                Y|Tried many... Thi...|I had been lookin...| 2015-08-31|\n",
            "|         US|   19380011|R2AYJHH8WJNGAU|B013D32WVA|     138975975|Samsung Galaxy No...|        Wireless|          4|           98|        104|   N|                Y|     Time will tell.|I wanted a water ...| 2015-08-31|\n",
            "|         US|   22953177|R111DJA10Y6CMU|B013BHLU66|     396362963|Waterproof Case f...|        Wireless|          5|           26|         39|   N|                Y|Great Value - Goo...|First, I will say...| 2015-08-31|\n",
            "|         US|   16980808|R2EE2TR4MRDV0U|B00Y1Z87UU|     956867660|IBESTWIN Li-ion R...|        Wireless|          5|           53|         59|   N|                Y|Does it get any b...|A great battery f...| 2015-08-31|\n",
            "|         US|   37339397| RD4A80I5JDHED|B00UY29N8Y|     384094161|IncrediSonic M700...|        Wireless|          5|           69|         77|   N|                N|        Virtual Fun!|I was a bit skept...| 2015-08-31|\n",
            "|         US|    7830540|R1GU6IYZQWQE8X|B00NPZG6DW|     267673298|      Parrot Zik 2.0|        Wireless|          2|           24|         25|   N|                Y|Crappy lining... ...|These sounds grea...| 2015-08-31|\n",
            "|         US|     113760| RZOPM62JMW97V|B00X0X3EQ6|     657509542|OtterBox SYMMETRY...|        Wireless|          2|          103|        108|   N|                Y|AVOID IF YOU ARE ...|Although this cas...| 2015-08-31|\n",
            "|         US|   35621482|R1D3NR5GREEXXJ|B013F8C9X4|     561786475|Galaxy Note 5 Cas...|        Wireless|          5|           57|         58|   N|                Y|Great case for a ...|I've been a big f...| 2015-08-31|\n",
            "|         US|   45872422|R24BMEHX5EWGEY|B00Z9P06DW|     459992506|ATian 9 inch TFT ...|        Wireless|          2|           26|         30|   N|                Y|Not great - Wirel...|Pretty disappoint...| 2015-08-31|\n",
            "|         US|   44137838|R2WYKBQS8OR08O|B010GYYSU2|     518226514|Z-Edge 2.4- inch ...|        Wireless|          5|          168|        176|   N|                Y|  PERFECT DASH CAM !|I returned my gar...| 2015-08-31|\n",
            "|         US|   11179629|R3DL0Y1KWYLD5X|B010LXUQNG|     179041214|iPhone 6 Case, Lo...|        Wireless|          5|           36|         37|   N|                Y|You won't be disa...|Let me just say f...| 2015-08-31|\n",
            "|         US|   21851130|R3EGDTFDMCOOG4|B010MP3K0O|     868762206|Jackery Titan Por...|        Wireless|          5|           74|         90|   N|                N|Jackery Titan 180...|I was sent this J...| 2015-08-31|\n",
            "|         US|     459473|R1MC93W6WG9R3O|B00TRNCN5Q|     736335718|Galaxy Grand Prim...|        Wireless|          1|           22|         22|   N|                Y|            One Star|Too lose does not...| 2015-08-31|\n",
            "|         US|    5374752|R35B0B69DYR54L|B00TRC3YF0|     396308462|Rexing F9 2.7” LC...|        Wireless|          1|           18|         22|   N|                Y|The user manual i...|The user manual i...| 2015-08-31|\n",
            "|         US|   29179205|R1593EM56412NH|B011VRO5M4|      28128248|iPhone 6S Plus Wa...|        Wireless|          4|           33|         37|   N|                Y|Nice case except ...|I like my new cas...| 2015-08-31|\n",
            "|         US|   14971124|R1KEP1DUJK2LD5|B00UH3L82Y|     792159590|Armorsuit - Apple...|        Wireless|          5|           34|         42|   N|                Y|          GREAT!!!!!|I thought I had r...| 2015-08-31|\n",
            "+-----------+-----------+--------------+----------+--------------+--------------------+----------------+-----------+-------------+-----------+----+-----------------+--------------------+--------------------+-----------+\n",
            "only showing top 20 rows\n",
            "\n"
          ]
        }
      ]
    },
    {
      "cell_type": "code",
      "source": [
        "vine_y=vine_reviews_new.filter(vine_reviews_new['vine']=='Y')\n",
        "vine_y.show()"
      ],
      "metadata": {
        "colab": {
          "base_uri": "https://localhost:8080/"
        },
        "id": "UDPwbQByz1D6",
        "outputId": "1b146234-b7fe-49a4-b0ac-a38a4bd12194"
      },
      "execution_count": 8,
      "outputs": [
        {
          "output_type": "stream",
          "name": "stdout",
          "text": [
            "+-----------+-----------+--------------+----------+--------------+--------------------+----------------+-----------+-------------+-----------+----+-----------------+--------------------+--------------------+-----------+\n",
            "|marketplace|customer_id|     review_id|product_id|product_parent|       product_title|product_category|star_rating|helpful_votes|total_votes|vine|verified_purchase|     review_headline|         review_body|review_date|\n",
            "+-----------+-----------+--------------+----------+--------------+--------------------+----------------+-----------+-------------+-----------+----+-----------------+--------------------+--------------------+-----------+\n",
            "|         US|   48852155|R1MAOLI5FJHAFM|B013X0V11K|     610966690|BLU Studio 7.0 ll...|        Wireless|          4|          249|        261|   Y|                N|More than just a ...|Ever since the ve...| 2015-08-31|\n",
            "|         US|   11556116| R9PYAUDIBJVEC|B013X0V4VM|     672788343|BLU Studio C Supe...|        Wireless|          4|           12|         22|   Y|                N|Large clear scree...|I picked this pho...| 2015-08-30|\n",
            "|         US|   46671309| R6V9SHMMG5M8F|B013X0V11K|     610966690|BLU Studio 7.0 ll...|        Wireless|          5|          101|        110|   Y|                N|  Very good Phablet!|I remember the da...| 2015-08-30|\n",
            "|         US|   49598970|R37PVLT6ELL5J4|B011HT9AL2|     557568833|Tile (Gen 2) - Ph...|        Wireless|          4|          181|        209|   Y|                N|This low-cost tra...|I was initially s...| 2015-08-28|\n",
            "|         US|   52057325| R2FSFGWZF24V9|B0129T0XXS|     592405023|BLU Studio C 5+5 ...|        Wireless|          4|           50|         51|   Y|                N|Great phone for a...|I am a TOTAL Ludd...| 2015-08-24|\n",
            "|         US|   53019847|R3SRW1E8J56IGV|B0129TQLPW|     226174255|BLU Energy X Plus...|        Wireless|          5|          262|        281|   Y|                N|A bang for the bu...|The BLU Energy X ...| 2015-08-16|\n",
            "|         US|   31302915| R86Z11D4CWOFM|B0129T0XXS|     592405023|BLU Studio C 5+5 ...|        Wireless|          4|           32|         36|   Y|                N|Not as pictured, ...|First off, the ph...| 2015-08-16|\n",
            "|         US|   50885906| RNP01HW9YISJO|B00W7S34HY|     920588860|Optrix  Waterproo...|        Wireless|          4|           20|         23|   Y|                N|A high quality, c...|Prior to using th...| 2015-08-15|\n",
            "|         US|   49110251|R3KLACA6LCDZ0S|B00W75BKQ4|     566439653|Motorola T460 Rec...|        Wireless|          3|           21|         22|   Y|                N|Good feature set ...|In an age of cell...| 2015-08-15|\n",
            "|         US|   50125011| RZEQYOT2RE0N7|B0129T0XXS|     592405023|BLU Studio C 5+5 ...|        Wireless|          4|           75|         80|   Y|                N|BLU Studio C 5+5 ...|Amazingly easy to...| 2015-08-14|\n",
            "|         US|   39749647|R2WBPX441TH495|B0129TQLPW|     226174255|BLU Energy X Plus...|        Wireless|          5|          202|        221|   Y|                N|       Great Phone!!|My main interest ...| 2015-08-13|\n",
            "|         US|   53058973|R2BYBSYHS66ZN8|B0129T0XXS|     592405023|BLU Studio C 5+5 ...|        Wireless|          5|          109|        114|   Y|                N|Simplicity, Quali...|The word &#34;che...| 2015-08-12|\n",
            "|         US|   12537483|R3IF59PJGCNU3Q|B011YNPPME|     242359747|BLU Vivo Selfie S...|        Wireless|          4|           42|         54|   Y|                N|Fun & Cheap Phone...|The BLUE Vivo Sel...| 2015-08-12|\n",
            "|         US|   35304626|R2IXC6U7W4OCQ9|B0129TQLPW|     226174255|BLU Energy X Plus...|        Wireless|          5|          185|        201|   Y|                N|This is our secon...|This is our secon...| 2015-08-11|\n",
            "|         US|   30057302|R1JEI3H9QRP6PH|B011YNPPME|     242359747|BLU Vivo Selfie S...|        Wireless|          5|           15|         22|   Y|                N|   What a Bargain!!!|We have been an i...| 2015-08-10|\n",
            "|         US|   52109863|R37L3KGRRR6JTL|B00MCJ4CKG|      91423181|Recon Jet Heads U...|        Wireless|          3|           38|         47|   Y|                N|       Has potential|I was quite excit...| 2015-08-05|\n",
            "|         US|   43791073|R1YJ7OKAEML92P|B00TYTBHKU|     399571814|OtterBox Symmetry...|        Wireless|          5|           20|         22|   Y|                N|Saved my phone as...|I will blame the ...| 2015-07-31|\n",
            "|         US|   50441881|R3JZJOD2512UVY|B0102OM1IC|     845336843|Sony Xperia M4 Aq...|        Wireless|          4|           85|        101|   Y|                N|First time Androi...|This is my first ...| 2015-07-19|\n",
            "|         US|   52591230|R38MY3TK17MXDH|B00N9E6DUK|     272244000|JAWBONE UP3 Activ...|        Wireless|          4|           25|         32|   Y|                N|In-depth review a...|UPDATE, four star...| 2015-07-18|\n",
            "|         US|   52594065|R2LWISZ4DSM0I4|B0102OM1IC|     845336843|Sony Xperia M4 Aq...|        Wireless|          5|           28|         33|   Y|                N|Sony Xperia M4 Aq...|Update 10/12/2016...| 2015-07-17|\n",
            "+-----------+-----------+--------------+----------+--------------+--------------------+----------------+-----------+-------------+-----------+----+-----------------+--------------------+--------------------+-----------+\n",
            "only showing top 20 rows\n",
            "\n"
          ]
        }
      ]
    },
    {
      "cell_type": "code",
      "source": [
        "vine_y.agg({'vine':'count'}).show()\n"
      ],
      "metadata": {
        "colab": {
          "base_uri": "https://localhost:8080/"
        },
        "id": "x3DeyHB23eYA",
        "outputId": "329833c5-075b-4096-d51c-4e3422dca927"
      },
      "execution_count": 15,
      "outputs": [
        {
          "output_type": "stream",
          "name": "stdout",
          "text": [
            "+-----------+\n",
            "|count(vine)|\n",
            "+-----------+\n",
            "|        613|\n",
            "+-----------+\n",
            "\n"
          ]
        }
      ]
    },
    {
      "cell_type": "code",
      "source": [
        "vine_n=vine_reviews_new.filter(vine_reviews_new['vine']=='N')\n",
        "vine_n.show()"
      ],
      "metadata": {
        "colab": {
          "base_uri": "https://localhost:8080/"
        },
        "id": "pFwvQtV9z2o2",
        "outputId": "cde2c31a-a61d-49e4-c182-1adcb0adfc9a"
      },
      "execution_count": 9,
      "outputs": [
        {
          "output_type": "stream",
          "name": "stdout",
          "text": [
            "+-----------+-----------+--------------+----------+--------------+--------------------+----------------+-----------+-------------+-----------+----+-----------------+--------------------+--------------------+-----------+\n",
            "|marketplace|customer_id|     review_id|product_id|product_parent|       product_title|product_category|star_rating|helpful_votes|total_votes|vine|verified_purchase|     review_headline|         review_body|review_date|\n",
            "+-----------+-----------+--------------+----------+--------------+--------------------+----------------+-----------+-------------+-----------+----+-----------------+--------------------+--------------------+-----------+\n",
            "|         US|   44689470|R2WOW0TURNXB26|B00YY3UBV2|     310491927|            Garmin 1|        Wireless|          3|           54|         59|   N|                Y|Pretty Disappoint...|Bought this unit ...| 2015-08-31|\n",
            "|         US|     112342|R13VL62Y2HBQ0B|B010VFZJD6|     129632031|iTaste MVP3 PRO -...|        Wireless|          5|           15|         21|   N|                Y|   Excellent battery|I love my Mvp pro...| 2015-08-31|\n",
            "|         US|   13557708|R22G55KAPZKJQV|B00C8S8S4W|     998105706|SPOT 3 Satellite ...|        Wireless|          4|           20|         21|   N|                Y|Great but buy the...|My mom made me pu...| 2015-08-31|\n",
            "|         US|    3346419|R1610PGTJS7G3N|B011I4XMXS|     431799284|   Ausdom Dash cam 1|        Wireless|          2|           28|         44|   N|                Y| Pretty dissapointed|I was hoping for ...| 2015-08-31|\n",
            "|         US|   46029442| RLQL04BL0QXOJ|B00OSTKZWM|     736471392|RCA 5.5-Inch Quad...|        Wireless|          4|           45|         47|   N|                Y|Tried many... Thi...|I had been lookin...| 2015-08-31|\n",
            "|         US|   19380011|R2AYJHH8WJNGAU|B013D32WVA|     138975975|Samsung Galaxy No...|        Wireless|          4|           98|        104|   N|                Y|     Time will tell.|I wanted a water ...| 2015-08-31|\n",
            "|         US|   22953177|R111DJA10Y6CMU|B013BHLU66|     396362963|Waterproof Case f...|        Wireless|          5|           26|         39|   N|                Y|Great Value - Goo...|First, I will say...| 2015-08-31|\n",
            "|         US|   16980808|R2EE2TR4MRDV0U|B00Y1Z87UU|     956867660|IBESTWIN Li-ion R...|        Wireless|          5|           53|         59|   N|                Y|Does it get any b...|A great battery f...| 2015-08-31|\n",
            "|         US|   37339397| RD4A80I5JDHED|B00UY29N8Y|     384094161|IncrediSonic M700...|        Wireless|          5|           69|         77|   N|                N|        Virtual Fun!|I was a bit skept...| 2015-08-31|\n",
            "|         US|    7830540|R1GU6IYZQWQE8X|B00NPZG6DW|     267673298|      Parrot Zik 2.0|        Wireless|          2|           24|         25|   N|                Y|Crappy lining... ...|These sounds grea...| 2015-08-31|\n",
            "|         US|     113760| RZOPM62JMW97V|B00X0X3EQ6|     657509542|OtterBox SYMMETRY...|        Wireless|          2|          103|        108|   N|                Y|AVOID IF YOU ARE ...|Although this cas...| 2015-08-31|\n",
            "|         US|   35621482|R1D3NR5GREEXXJ|B013F8C9X4|     561786475|Galaxy Note 5 Cas...|        Wireless|          5|           57|         58|   N|                Y|Great case for a ...|I've been a big f...| 2015-08-31|\n",
            "|         US|   45872422|R24BMEHX5EWGEY|B00Z9P06DW|     459992506|ATian 9 inch TFT ...|        Wireless|          2|           26|         30|   N|                Y|Not great - Wirel...|Pretty disappoint...| 2015-08-31|\n",
            "|         US|   44137838|R2WYKBQS8OR08O|B010GYYSU2|     518226514|Z-Edge 2.4- inch ...|        Wireless|          5|          168|        176|   N|                Y|  PERFECT DASH CAM !|I returned my gar...| 2015-08-31|\n",
            "|         US|   11179629|R3DL0Y1KWYLD5X|B010LXUQNG|     179041214|iPhone 6 Case, Lo...|        Wireless|          5|           36|         37|   N|                Y|You won't be disa...|Let me just say f...| 2015-08-31|\n",
            "|         US|   21851130|R3EGDTFDMCOOG4|B010MP3K0O|     868762206|Jackery Titan Por...|        Wireless|          5|           74|         90|   N|                N|Jackery Titan 180...|I was sent this J...| 2015-08-31|\n",
            "|         US|     459473|R1MC93W6WG9R3O|B00TRNCN5Q|     736335718|Galaxy Grand Prim...|        Wireless|          1|           22|         22|   N|                Y|            One Star|Too lose does not...| 2015-08-31|\n",
            "|         US|    5374752|R35B0B69DYR54L|B00TRC3YF0|     396308462|Rexing F9 2.7” LC...|        Wireless|          1|           18|         22|   N|                Y|The user manual i...|The user manual i...| 2015-08-31|\n",
            "|         US|   29179205|R1593EM56412NH|B011VRO5M4|      28128248|iPhone 6S Plus Wa...|        Wireless|          4|           33|         37|   N|                Y|Nice case except ...|I like my new cas...| 2015-08-31|\n",
            "|         US|   14971124|R1KEP1DUJK2LD5|B00UH3L82Y|     792159590|Armorsuit - Apple...|        Wireless|          5|           34|         42|   N|                Y|          GREAT!!!!!|I thought I had r...| 2015-08-31|\n",
            "+-----------+-----------+--------------+----------+--------------+--------------------+----------------+-----------+-------------+-----------+----+-----------------+--------------------+--------------------+-----------+\n",
            "only showing top 20 rows\n",
            "\n"
          ]
        }
      ]
    },
    {
      "cell_type": "code",
      "source": [
        "vine_n.agg({'vine':'count'}).show()\n"
      ],
      "metadata": {
        "colab": {
          "base_uri": "https://localhost:8080/"
        },
        "id": "_xJtQvQ74Cec",
        "outputId": "2afb2ed2-73d5-40a0-9e6c-c46abbdc33e4"
      },
      "execution_count": 16,
      "outputs": [
        {
          "output_type": "stream",
          "name": "stdout",
          "text": [
            "+-----------+\n",
            "|count(vine)|\n",
            "+-----------+\n",
            "|      64968|\n",
            "+-----------+\n",
            "\n"
          ]
        }
      ]
    },
    {
      "cell_type": "code",
      "source": [
        "review_numbers = vine_reviews_new.agg({'customer_id':'count'})\n",
        "review_numbers.show()"
      ],
      "metadata": {
        "colab": {
          "base_uri": "https://localhost:8080/"
        },
        "id": "SeUXzVTbz4YT",
        "outputId": "4af33669-4d72-45f6-9926-176a34f7bfae"
      },
      "execution_count": 10,
      "outputs": [
        {
          "output_type": "stream",
          "name": "stdout",
          "text": [
            "+------------------+\n",
            "|count(customer_id)|\n",
            "+------------------+\n",
            "|             65581|\n",
            "+------------------+\n",
            "\n"
          ]
        }
      ]
    },
    {
      "cell_type": "code",
      "source": [
        "five_stars = vine_reviews_new.filter(vine_reviews_new['star_rating']==5)\n",
        "five_stars.show()"
      ],
      "metadata": {
        "colab": {
          "base_uri": "https://localhost:8080/"
        },
        "id": "AU2UHtBgz6Fc",
        "outputId": "a6628d4d-9333-4bdb-d521-ce146388d5f9"
      },
      "execution_count": 11,
      "outputs": [
        {
          "output_type": "stream",
          "name": "stdout",
          "text": [
            "+-----------+-----------+--------------+----------+--------------+--------------------+----------------+-----------+-------------+-----------+----+-----------------+--------------------+--------------------+-----------+\n",
            "|marketplace|customer_id|     review_id|product_id|product_parent|       product_title|product_category|star_rating|helpful_votes|total_votes|vine|verified_purchase|     review_headline|         review_body|review_date|\n",
            "+-----------+-----------+--------------+----------+--------------+--------------------+----------------+-----------+-------------+-----------+----+-----------------+--------------------+--------------------+-----------+\n",
            "|         US|     112342|R13VL62Y2HBQ0B|B010VFZJD6|     129632031|iTaste MVP3 PRO -...|        Wireless|          5|           15|         21|   N|                Y|   Excellent battery|I love my Mvp pro...| 2015-08-31|\n",
            "|         US|   22953177|R111DJA10Y6CMU|B013BHLU66|     396362963|Waterproof Case f...|        Wireless|          5|           26|         39|   N|                Y|Great Value - Goo...|First, I will say...| 2015-08-31|\n",
            "|         US|   16980808|R2EE2TR4MRDV0U|B00Y1Z87UU|     956867660|IBESTWIN Li-ion R...|        Wireless|          5|           53|         59|   N|                Y|Does it get any b...|A great battery f...| 2015-08-31|\n",
            "|         US|   37339397| RD4A80I5JDHED|B00UY29N8Y|     384094161|IncrediSonic M700...|        Wireless|          5|           69|         77|   N|                N|        Virtual Fun!|I was a bit skept...| 2015-08-31|\n",
            "|         US|   35621482|R1D3NR5GREEXXJ|B013F8C9X4|     561786475|Galaxy Note 5 Cas...|        Wireless|          5|           57|         58|   N|                Y|Great case for a ...|I've been a big f...| 2015-08-31|\n",
            "|         US|   44137838|R2WYKBQS8OR08O|B010GYYSU2|     518226514|Z-Edge 2.4- inch ...|        Wireless|          5|          168|        176|   N|                Y|  PERFECT DASH CAM !|I returned my gar...| 2015-08-31|\n",
            "|         US|   11179629|R3DL0Y1KWYLD5X|B010LXUQNG|     179041214|iPhone 6 Case, Lo...|        Wireless|          5|           36|         37|   N|                Y|You won't be disa...|Let me just say f...| 2015-08-31|\n",
            "|         US|   21851130|R3EGDTFDMCOOG4|B010MP3K0O|     868762206|Jackery Titan Por...|        Wireless|          5|           74|         90|   N|                N|Jackery Titan 180...|I was sent this J...| 2015-08-31|\n",
            "|         US|   14971124|R1KEP1DUJK2LD5|B00UH3L82Y|     792159590|Armorsuit - Apple...|        Wireless|          5|           34|         42|   N|                Y|          GREAT!!!!!|I thought I had r...| 2015-08-31|\n",
            "|         US|   39442138| R6IEQ9100RX0O|B010R8CE4O|     782031320|Ringke [FUSION] i...|        Wireless|          5|           49|         57|   N|                Y|This is a pretty ...|This is a pretty ...| 2015-08-31|\n",
            "|         US|   20894873|R2X6SBELMJP4PH|B0128X76LC|     473809134|2 Pack PowerJive®...|        Wireless|          5|           27|         34|   N|                N|Just as good as t...|The PowerJive blo...| 2015-08-31|\n",
            "|         US|   49523782|R1SFITLRSE3K7T|B013JRQR5M|     901946285|KPTEC Mini Displa...|        Wireless|          5|           20|         23|   N|                Y|(live video test)...|[[VIDEOID:f8ef8c6...| 2015-08-31|\n",
            "|         US|    2937993|R1EZ878XMIT67K|B010MP3K0O|     868762206|Jackery Titan Por...|        Wireless|          5|           29|         35|   N|                N|The BEST Portable...|We've been using ...| 2015-08-31|\n",
            "|         US|   50977209|R359PHUFU7ZTXV|B010G43VAU|     338621307|Fuse Chicken Tita...|        Wireless|          5|           68|         72|   N|                N|           Redeemed!|I'm fine with thi...| 2015-08-31|\n",
            "|         US|   10726979|R1H2OA4AKOW67K|B012T4JBDQ|     200080355|Karnotech Battery...|        Wireless|          5|           26|         29|   N|                N|Take selfies anyw...|This mini selfie ...| 2015-08-31|\n",
            "|         US|   30337045|R3VM9PM5RHZW3C|B0133Z8U28|     276707711|Apple Watch Band,...|        Wireless|          5|           93|         98|   N|                Y|Happy wife happy ...|I purchased as a ...| 2015-08-31|\n",
            "|         US|    3048348|R1RNG6Q1ZQDX7Q|B00HZA6DPO|     655976462| BOSS Audio Products|        Wireless|          5|           76|         86|   N|                N|Anyone know if it...|Not sure if this ...| 2015-08-31|\n",
            "|         US|   16588078|R1C1KRLWE6YJMY|B00JH88D1O|     695941320|Spigen Ultra Hybr...|        Wireless|          5|           49|         51|   N|                Y|Protection and Be...|I upgraded from a...| 2015-08-31|\n",
            "|         US|   13690981| RMAAUEPV7VC18|B010LFISKW|     943093606|Pyle PLDN63BT Dou...|        Wireless|          5|           22|         30|   N|                N|AWESOME stereo, l...|[[VIDEOID:543e99d...| 2015-08-31|\n",
            "|         US|   51799697|R1QE0XSV1EKPLC|B0132XCT0U|      78607332|Galaxy Note 5 Scr...|        Wireless|          5|           22|         26|   N|                Y|        Recommended!|I couldn't be mor...| 2015-08-31|\n",
            "+-----------+-----------+--------------+----------+--------------+--------------------+----------------+-----------+-------------+-----------+----+-----------------+--------------------+--------------------+-----------+\n",
            "only showing top 20 rows\n",
            "\n"
          ]
        }
      ]
    },
    {
      "cell_type": "code",
      "source": [
        "five_stars.agg({'star_rating':'count'}).show()\n"
      ],
      "metadata": {
        "colab": {
          "base_uri": "https://localhost:8080/"
        },
        "id": "39TmXzMT5CxC",
        "outputId": "634b2e1a-3059-4c60-cac7-c47bdacb5a13"
      },
      "execution_count": 17,
      "outputs": [
        {
          "output_type": "stream",
          "name": "stdout",
          "text": [
            "+------------------+\n",
            "|count(star_rating)|\n",
            "+------------------+\n",
            "|             30765|\n",
            "+------------------+\n",
            "\n"
          ]
        }
      ]
    },
    {
      "cell_type": "code",
      "source": [
        "tot = vine_reviews_new.agg({'vine':'count'})\n",
        "tot.show()"
      ],
      "metadata": {
        "colab": {
          "base_uri": "https://localhost:8080/"
        },
        "id": "zGSnwhz952az",
        "outputId": "c085049c-811e-4600-9d17-35e7bebadab2"
      },
      "execution_count": 21,
      "outputs": [
        {
          "output_type": "stream",
          "name": "stdout",
          "text": [
            "+-----------+\n",
            "|count(vine)|\n",
            "+-----------+\n",
            "|      65581|\n",
            "+-----------+\n",
            "\n"
          ]
        }
      ]
    },
    {
      "cell_type": "code",
      "source": [],
      "metadata": {
        "id": "EmijFAJE6In4"
      },
      "execution_count": 26,
      "outputs": []
    },
    {
      "cell_type": "code",
      "source": [
        "percentage_y = five_stars.count()/vine_y.count()\n"
      ],
      "metadata": {
        "id": "2b-gmAThz7xc"
      },
      "execution_count": 12,
      "outputs": []
    },
    {
      "cell_type": "code",
      "source": [
        "percentage_y"
      ],
      "metadata": {
        "colab": {
          "base_uri": "https://localhost:8080/"
        },
        "id": "_nDNwokvz9zS",
        "outputId": "0a61a1fd-8c27-4b96-e90e-e3ec33774c89"
      },
      "execution_count": 13,
      "outputs": [
        {
          "output_type": "execute_result",
          "data": {
            "text/plain": [
              "50.18760195758564"
            ]
          },
          "metadata": {},
          "execution_count": 13
        }
      ]
    },
    {
      "cell_type": "code",
      "source": [
        "percentage_n = five_stars.count()/vine_n.count()\n",
        "percentage_n"
      ],
      "metadata": {
        "colab": {
          "base_uri": "https://localhost:8080/"
        },
        "id": "3dy-GrBAz_qU",
        "outputId": "008869b5-f866-43c6-cd36-cfb15987cd5f"
      },
      "execution_count": 14,
      "outputs": [
        {
          "output_type": "execute_result",
          "data": {
            "text/plain": [
              "0.4735408200960473"
            ]
          },
          "metadata": {},
          "execution_count": 14
        }
      ]
    },
    {
      "cell_type": "code",
      "source": [],
      "metadata": {
        "id": "aDLi0uev0BWj"
      },
      "execution_count": null,
      "outputs": []
    }
  ]
}